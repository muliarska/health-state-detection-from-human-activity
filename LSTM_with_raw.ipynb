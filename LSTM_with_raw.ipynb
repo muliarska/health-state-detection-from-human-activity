{
  "cells": [
    {
      "cell_type": "code",
      "execution_count": 1,
      "metadata": {
        "collapsed": true,
        "id": "AiV1s57-hvYo"
      },
      "outputs": [],
      "source": [
        "import numpy as np\n",
        "import matplotlib\n",
        "import matplotlib.pyplot as plt\n",
        "\n",
        "import tensorflow as tf\n",
        "from sklearn import metrics\n",
        "\n",
        "import os"
      ]
    },
    {
      "cell_type": "code",
      "execution_count": 2,
      "metadata": {
        "id": "w4tDQOIchvYq"
      },
      "outputs": [],
      "source": [
        "# Those are separate normalised input features for the neural network\n",
        "INPUT_SIGNAL_TYPES = [\n",
        "    \"body_acc_x_\",\n",
        "    \"body_acc_y_\",\n",
        "    \"body_acc_z_\",\n",
        "    \"body_gyro_x_\",\n",
        "    \"body_gyro_y_\",\n",
        "    \"body_gyro_z_\",\n",
        "    \"total_acc_x_\",\n",
        "    \"total_acc_y_\",\n",
        "    \"total_acc_z_\"\n",
        "]\n",
        "\n",
        "# Output classes to learn how to classify\n",
        "LABELS = [\n",
        "    \"WALKING\", \n",
        "    \"WALKING_UPSTAIRS\", \n",
        "    \"WALKING_DOWNSTAIRS\", \n",
        "    \"SITTING\", \n",
        "    \"STANDING\", \n",
        "    \"LAYING\"\n",
        "] \n"
      ]
    },
    {
      "cell_type": "markdown",
      "metadata": {
        "id": "hwD9HlaAhvYr"
      },
      "source": [
        "\n",
        "\n",
        "## Downloading the data: "
      ]
    },
    {
      "cell_type": "code",
      "source": [
        "from google.colab import drive\n",
        "drive.mount('/content/drive')"
      ],
      "metadata": {
        "colab": {
          "base_uri": "https://localhost:8080/"
        },
        "id": "1iHRLXgmihEA",
        "outputId": "e723b53a-d554-480d-b52f-4a6b41c3da88"
      },
      "execution_count": 3,
      "outputs": [
        {
          "output_type": "stream",
          "name": "stdout",
          "text": [
            "Mounted at /content/drive\n"
          ]
        }
      ]
    },
    {
      "cell_type": "code",
      "execution_count": 4,
      "metadata": {
        "id": "g-Wgv8zDhvYr"
      },
      "outputs": [],
      "source": [
        "DATASET_PATH = '/content/drive/MyDrive/human-activity-data-toronto-ucu/UCI-HAR-Dataset/'"
      ]
    },
    {
      "cell_type": "markdown",
      "metadata": {
        "id": "ZpN3F-FPhvYs"
      },
      "source": [
        "## Preparing dataset:"
      ]
    },
    {
      "cell_type": "code",
      "execution_count": 5,
      "metadata": {
        "id": "PIyL801AhvYt"
      },
      "outputs": [],
      "source": [
        "TRAIN = \"train/\"\n",
        "TEST = \"test/\"\n",
        "\n",
        "\n",
        "# Load \"X\" (the neural network's training and testing inputs)\n",
        "\n",
        "def load_X(X_signals_paths):\n",
        "    X_signals = []  \n",
        "    \n",
        "    for signal_type_path in X_signals_paths:\n",
        "        file = open(signal_type_path, 'r')\n",
        "        # Read dataset from disk, dealing with text files' syntax\n",
        "        X_signals.append(\n",
        "            [np.array(serie, dtype=np.float32) for serie in [\n",
        "                row.replace('  ', ' ').strip().split(' ') for row in file\n",
        "            ]]\n",
        "        )\n",
        "        file.close()\n",
        "    \n",
        "    return np.transpose(np.array(X_signals), (1, 2, 0))\n",
        "\n",
        "X_train_signals_paths = [\n",
        "    DATASET_PATH + TRAIN + \"Inertial Signals/\" + signal + \"train.txt\" for signal in INPUT_SIGNAL_TYPES\n",
        "]\n",
        "X_test_signals_paths = [\n",
        "    DATASET_PATH + TEST + \"Inertial Signals/\" + signal + \"test.txt\" for signal in INPUT_SIGNAL_TYPES\n",
        "]\n",
        "\n",
        "X_train = load_X(X_train_signals_paths)\n",
        "X_test = load_X(X_test_signals_paths)\n",
        "\n",
        "\n",
        "# Load \"y\" (the neural network's training and testing outputs)\n",
        "\n",
        "def load_y(y_path):\n",
        "    file = open(y_path, 'r')\n",
        "    # Read dataset from disk, dealing with text file's syntax\n",
        "    y_ = np.array(\n",
        "        [elem for elem in [\n",
        "            row.replace('  ', ' ').strip().split(' ') for row in file\n",
        "        ]], \n",
        "        dtype=np.int32\n",
        "    )\n",
        "    file.close()\n",
        "    \n",
        "    # Substract 1 to each output class for friendly 0-based indexing \n",
        "    return y_ - 1\n",
        "\n",
        "y_train_path = DATASET_PATH + TRAIN + \"y_train.txt\"\n",
        "y_test_path = DATASET_PATH + TEST + \"y_test.txt\"\n",
        "\n",
        "y_train = load_y(y_train_path)\n",
        "y_test = load_y(y_test_path)\n"
      ]
    },
    {
      "cell_type": "markdown",
      "metadata": {
        "id": "tkkHu5fLhvYu"
      },
      "source": [
        "## Additionnal Parameters:\n",
        "\n",
        "Here are some core parameter definitions for the training. \n",
        "\n",
        "For example, the whole neural network's structure could be summarised by enumerating those parameters and the fact that two LSTM are used one on top of another (stacked) output-to-input as hidden layers through time steps. "
      ]
    },
    {
      "cell_type": "code",
      "execution_count": 6,
      "metadata": {
        "colab": {
          "base_uri": "https://localhost:8080/"
        },
        "id": "UmjUbWXrhvYu",
        "outputId": "1b92f708-a3a9-4a9a-fcb8-947444661081"
      },
      "outputs": [
        {
          "output_type": "stream",
          "name": "stdout",
          "text": [
            "Some useful info to get an insight on dataset's shape and normalisation:\n",
            "(X shape, y shape, every X's mean, every X's standard deviation)\n",
            "(2947, 128, 9) (2947, 1) 0.09913992 0.39567086\n",
            "The dataset is therefore properly normalised, as expected, but not yet one-hot encoded.\n"
          ]
        }
      ],
      "source": [
        "# Input Data \n",
        "\n",
        "training_data_count = len(X_train)  # 7352 training series (with 50% overlap between each serie)\n",
        "test_data_count = len(X_test)  # 2947 testing series\n",
        "n_steps = len(X_train[0])  # 128 timesteps per series\n",
        "n_input = len(X_train[0][0])  # 9 input parameters per timestep\n",
        "\n",
        "\n",
        "# LSTM Neural Network's internal structure\n",
        "\n",
        "n_hidden = 32 # Hidden layer num of features\n",
        "n_classes = 6 # Total classes (should go up, or should go down)\n",
        "\n",
        "\n",
        "# Training \n",
        "\n",
        "learning_rate = 0.0025\n",
        "lambda_loss_amount = 0.0015\n",
        "training_iters = training_data_count * 300  # Loop 300 times on the dataset\n",
        "batch_size = 1500\n",
        "display_iter = 30000  # To show test set accuracy during training\n",
        "\n",
        "\n",
        "# Some debugging info\n",
        "\n",
        "print(\"Some useful info to get an insight on dataset's shape and normalisation:\")\n",
        "print(\"(X shape, y shape, every X's mean, every X's standard deviation)\")\n",
        "print(X_test.shape, y_test.shape, np.mean(X_test), np.std(X_test))\n",
        "print(\"The dataset is therefore properly normalised, as expected, but not yet one-hot encoded.\")\n"
      ]
    },
    {
      "cell_type": "markdown",
      "metadata": {
        "id": "EEpNxmCBhvYv"
      },
      "source": [
        "## Utility functions for training:"
      ]
    },
    {
      "cell_type": "code",
      "execution_count": 7,
      "metadata": {
        "collapsed": true,
        "id": "BuXlpQIhhvYv"
      },
      "outputs": [],
      "source": [
        "def LSTM_RNN(_X, _weights, _biases):\n",
        "    # Function returns a tensorflow LSTM (RNN) artificial neural network from given parameters. \n",
        "    # Moreover, two LSTM cells are stacked which adds deepness to the neural network. \n",
        "    # Note, some code of this notebook is inspired from an slightly different \n",
        "    # RNN architecture used on another dataset, some of the credits goes to \n",
        "    # \"aymericdamien\" under the MIT license.\n",
        "\n",
        "    # (NOTE: This step could be greatly optimised by shaping the dataset once\n",
        "    # input shape: (batch_size, n_steps, n_input)\n",
        "    _X = tf.transpose(a=_X, perm=[1, 0, 2])  # permute n_steps and batch_size\n",
        "    # Reshape to prepare input to hidden activation\n",
        "    _X = tf.reshape(_X, [-1, n_input]) \n",
        "    # new shape: (n_steps*batch_size, n_input)\n",
        "    \n",
        "    # ReLU activation, thanks to Yu Zhao for adding this improvement here:\n",
        "    _X = tf.nn.relu(tf.matmul(_X, _weights['hidden']) + _biases['hidden'])\n",
        "    # Split data because rnn cell needs a list of inputs for the RNN inner loop\n",
        "    _X = tf.split(_X, n_steps, 0) \n",
        "    # new shape: n_steps * (batch_size, n_hidden)\n",
        "\n",
        "    # Define two stacked LSTM cells (two recurrent layers deep) with tensorflow\n",
        "    lstm_cell_1 = tf.compat.v1.nn.rnn_cell.BasicLSTMCell(n_hidden, forget_bias=1.0, state_is_tuple=True)\n",
        "    lstm_cell_2 = tf.compat.v1.nn.rnn_cell.BasicLSTMCell(n_hidden, forget_bias=1.0, state_is_tuple=True)\n",
        "    lstm_cells = tf.compat.v1.nn.rnn_cell.MultiRNNCell([lstm_cell_1, lstm_cell_2], state_is_tuple=True)\n",
        "    # Get LSTM cell output\n",
        "    outputs, states = tf.compat.v1.nn.static_rnn(lstm_cells, _X, dtype=tf.float32)\n",
        "\n",
        "    # Get last time step's output feature for a \"many-to-one\" style classifier, \n",
        "    # as in the image describing RNNs at the top of this page\n",
        "    lstm_last_output = outputs[-1]\n",
        "    \n",
        "    # Linear activation\n",
        "    return tf.matmul(lstm_last_output, _weights['out']) + _biases['out']\n",
        "\n",
        "\n",
        "def extract_batch_size(_train, step, batch_size):\n",
        "    # Function to fetch a \"batch_size\" amount of data from \"(X|y)_train\" data. \n",
        "    \n",
        "    shape = list(_train.shape)\n",
        "    shape[0] = batch_size\n",
        "    batch_s = np.empty(shape)\n",
        "\n",
        "    for i in range(batch_size):\n",
        "        # Loop index\n",
        "        index = ((step-1)*batch_size + i) % len(_train)\n",
        "        batch_s[i] = _train[index] \n",
        "\n",
        "    return batch_s\n",
        "\n",
        "\n",
        "def one_hot(y_, n_classes=n_classes):\n",
        "    # Function to encode neural one-hot output labels from number indexes \n",
        "    # e.g.: \n",
        "    # one_hot(y_=[[5], [0], [3]], n_classes=6):\n",
        "    #     return [[0, 0, 0, 0, 0, 1], [1, 0, 0, 0, 0, 0], [0, 0, 0, 1, 0, 0]]\n",
        "    \n",
        "    y_ = y_.reshape(len(y_))\n",
        "    return np.eye(n_classes)[np.array(y_, dtype=np.int32)]  # Returns FLOATS\n"
      ]
    },
    {
      "cell_type": "markdown",
      "metadata": {
        "id": "uTidjLgNhvYw"
      },
      "source": [
        "## Let's get serious and build the neural network:"
      ]
    },
    {
      "cell_type": "code",
      "execution_count": 9,
      "metadata": {
        "colab": {
          "base_uri": "https://localhost:8080/"
        },
        "id": "HKWSmPEwhvYw",
        "outputId": "42d9ee01-0bca-4792-cc24-c2d77bb2b45a"
      },
      "outputs": [
        {
          "output_type": "stream",
          "name": "stderr",
          "text": [
            "<ipython-input-7-c44f55acbf82>:22: UserWarning: `tf.nn.rnn_cell.BasicLSTMCell` is deprecated and will be removed in a future version. This class is equivalent as `tf.keras.layers.LSTMCell`, and will be replaced by that in Tensorflow 2.0.\n",
            "  lstm_cell_1 = tf.compat.v1.nn.rnn_cell.BasicLSTMCell(n_hidden, forget_bias=1.0, state_is_tuple=True)\n",
            "<ipython-input-7-c44f55acbf82>:23: UserWarning: `tf.nn.rnn_cell.BasicLSTMCell` is deprecated and will be removed in a future version. This class is equivalent as `tf.keras.layers.LSTMCell`, and will be replaced by that in Tensorflow 2.0.\n",
            "  lstm_cell_2 = tf.compat.v1.nn.rnn_cell.BasicLSTMCell(n_hidden, forget_bias=1.0, state_is_tuple=True)\n",
            "WARNING:tensorflow:`tf.nn.rnn_cell.MultiRNNCell` is deprecated. This class is equivalent as `tf.keras.layers.StackedRNNCells`, and will be replaced by that in Tensorflow 2.0.\n",
            "WARNING:tensorflow:From <ipython-input-7-c44f55acbf82>:26: static_rnn (from tensorflow.python.ops.rnn) is deprecated and will be removed in a future version.\n",
            "Instructions for updating:\n",
            "Please use `keras.layers.RNN(cell, unroll=True)`, which is equivalent to this API\n",
            "WARNING:tensorflow:From /usr/local/lib/python3.8/dist-packages/keras/layers/rnn/legacy_cells.py:726: calling Zeros.__init__ (from tensorflow.python.ops.init_ops) with dtype is deprecated and will be removed in a future version.\n",
            "Instructions for updating:\n",
            "Call initializer instance with the dtype argument instead of passing it to the constructor\n"
          ]
        }
      ],
      "source": [
        "# Graph input/output\n",
        "tf.compat.v1.disable_eager_execution()\n",
        "x = tf.compat.v1.placeholder(tf.float32, [None, n_steps, n_input])\n",
        "y = tf.compat.v1.placeholder(tf.float32, [None, n_classes])\n",
        "\n",
        "# Graph weights\n",
        "weights = {\n",
        "    'hidden': tf.Variable(tf.random.normal([n_input, n_hidden])), # Hidden layer weights\n",
        "    'out': tf.Variable(tf.random.normal([n_hidden, n_classes], mean=1.0))\n",
        "}\n",
        "biases = {\n",
        "    'hidden': tf.Variable(tf.random.normal([n_hidden])),\n",
        "    'out': tf.Variable(tf.random.normal([n_classes]))\n",
        "}\n",
        "\n",
        "pred = LSTM_RNN(x, weights, biases)\n",
        "\n",
        "# Loss, optimizer and evaluation\n",
        "l2 = lambda_loss_amount * sum(\n",
        "    tf.nn.l2_loss(tf_var) for tf_var in tf.compat.v1.trainable_variables()\n",
        ") # L2 loss prevents this overkill neural network to overfit the data\n",
        "cost = tf.reduce_mean(input_tensor=tf.nn.softmax_cross_entropy_with_logits(labels=tf.stop_gradient(y), logits=pred)) + l2 # Softmax loss\n",
        "optimizer = tf.compat.v1.train.AdamOptimizer(learning_rate=learning_rate).minimize(cost) # Adam Optimizer\n",
        "\n",
        "correct_pred = tf.equal(tf.argmax(input=pred,axis=1), tf.argmax(input=y,axis=1))\n",
        "accuracy = tf.reduce_mean(input_tensor=tf.cast(correct_pred, tf.float32))\n"
      ]
    },
    {
      "cell_type": "markdown",
      "metadata": {
        "id": "NoriksLThvYx"
      },
      "source": [
        "## Hooray, now train the neural network:"
      ]
    },
    {
      "cell_type": "code",
      "execution_count": null,
      "metadata": {
        "scrolled": true,
        "colab": {
          "base_uri": "https://localhost:8080/"
        },
        "id": "J-_gowTshvYx",
        "outputId": "f1af488d-affa-4bf1-c9e2-ef88e7e2dc4a"
      },
      "outputs": [
        {
          "output_type": "stream",
          "name": "stdout",
          "text": [
            "Device mapping: no known devices.\n"
          ]
        },
        {
          "output_type": "stream",
          "name": "stderr",
          "text": [
            "/usr/local/lib/python3.8/dist-packages/tensorflow/python/client/session.py:1768: UserWarning: An interactive session is already active. This can cause out-of-memory errors in some cases. You must explicitly call `InteractiveSession.close()` to release resources held by the other session(s).\n",
            "  warnings.warn('An interactive session is already active. This can '\n"
          ]
        },
        {
          "output_type": "stream",
          "name": "stdout",
          "text": [
            "Training iter #1500:   Batch Loss = 2.501663, Accuracy = 0.36000001430511475\n",
            "PERFORMANCE ON TEST SET: Batch Loss = 2.1946053504943848, Accuracy = 0.3780115246772766\n",
            "Training iter #30000:   Batch Loss = 1.187142, Accuracy = 0.7546666860580444\n",
            "PERFORMANCE ON TEST SET: Batch Loss = 1.367483377456665, Accuracy = 0.671869695186615\n",
            "Training iter #60000:   Batch Loss = 1.073293, Accuracy = 0.7886666655540466\n",
            "PERFORMANCE ON TEST SET: Batch Loss = 1.280925989151001, Accuracy = 0.7234475612640381\n",
            "Training iter #90000:   Batch Loss = 0.993250, Accuracy = 0.840666651725769\n",
            "PERFORMANCE ON TEST SET: Batch Loss = 1.261685848236084, Accuracy = 0.7719715237617493\n",
            "Training iter #120000:   Batch Loss = 0.760289, Accuracy = 0.9259999990463257\n",
            "PERFORMANCE ON TEST SET: Batch Loss = 1.3507983684539795, Accuracy = 0.7964031100273132\n",
            "Training iter #150000:   Batch Loss = 0.705414, Accuracy = 0.9226666688919067\n",
            "PERFORMANCE ON TEST SET: Batch Loss = 1.2316209077835083, Accuracy = 0.8272819519042969\n",
            "Training iter #180000:   Batch Loss = 0.763534, Accuracy = 0.8859999775886536\n",
            "PERFORMANCE ON TEST SET: Batch Loss = 1.2454009056091309, Accuracy = 0.835425853729248\n",
            "Training iter #210000:   Batch Loss = 0.767540, Accuracy = 0.906000018119812\n",
            "PERFORMANCE ON TEST SET: Batch Loss = 1.0483598709106445, Accuracy = 0.8133695125579834\n",
            "Training iter #240000:   Batch Loss = 0.603665, Accuracy = 0.95333331823349\n",
            "PERFORMANCE ON TEST SET: Batch Loss = 1.0223262310028076, Accuracy = 0.8456056714057922\n",
            "Training iter #270000:   Batch Loss = 0.580746, Accuracy = 0.9666666388511658\n",
            "PERFORMANCE ON TEST SET: Batch Loss = 0.9938361048698425, Accuracy = 0.8415337800979614\n",
            "Training iter #300000:   Batch Loss = 0.545630, Accuracy = 0.984000027179718\n",
            "PERFORMANCE ON TEST SET: Batch Loss = 0.9343332052230835, Accuracy = 0.8727519512176514\n",
            "Training iter #330000:   Batch Loss = 0.588785, Accuracy = 0.9586666822433472\n",
            "PERFORMANCE ON TEST SET: Batch Loss = 0.9406741857528687, Accuracy = 0.8683406710624695\n",
            "Training iter #360000:   Batch Loss = 0.586487, Accuracy = 0.949999988079071\n",
            "PERFORMANCE ON TEST SET: Batch Loss = 0.8843971490859985, Accuracy = 0.8751272559165955\n",
            "Training iter #390000:   Batch Loss = 0.575581, Accuracy = 0.9413333535194397\n",
            "PERFORMANCE ON TEST SET: Batch Loss = 0.8692126274108887, Accuracy = 0.8785205483436584\n",
            "Training iter #420000:   Batch Loss = 0.520983, Accuracy = 0.9573333263397217\n",
            "PERFORMANCE ON TEST SET: Batch Loss = 0.8762825727462769, Accuracy = 0.8785205483436584\n",
            "Training iter #450000:   Batch Loss = 0.528310, Accuracy = 0.9493333101272583\n",
            "PERFORMANCE ON TEST SET: Batch Loss = 0.9190784692764282, Accuracy = 0.8778418898582458\n",
            "Training iter #480000:   Batch Loss = 0.765908, Accuracy = 0.8773333430290222\n",
            "PERFORMANCE ON TEST SET: Batch Loss = 0.9242677688598633, Accuracy = 0.8371224999427795\n",
            "Training iter #510000:   Batch Loss = 0.592382, Accuracy = 0.9440000057220459\n",
            "PERFORMANCE ON TEST SET: Batch Loss = 0.8485664129257202, Accuracy = 0.8618934750556946\n",
            "Training iter #540000:   Batch Loss = 0.589673, Accuracy = 0.9100000262260437\n",
            "PERFORMANCE ON TEST SET: Batch Loss = 0.8191945552825928, Accuracy = 0.8741092681884766\n",
            "Training iter #570000:   Batch Loss = 0.564537, Accuracy = 0.9266666769981384\n",
            "PERFORMANCE ON TEST SET: Batch Loss = 0.8028678894042969, Accuracy = 0.882253110408783\n",
            "Training iter #600000:   Batch Loss = 0.549784, Accuracy = 0.9240000247955322\n",
            "PERFORMANCE ON TEST SET: Batch Loss = 0.8106725811958313, Accuracy = 0.8825924396514893\n",
            "Training iter #630000:   Batch Loss = 0.444199, Accuracy = 0.9793333411216736\n",
            "PERFORMANCE ON TEST SET: Batch Loss = 0.8274816870689392, Accuracy = 0.8808958530426025\n",
            "Training iter #660000:   Batch Loss = 0.440042, Accuracy = 0.9826666712760925\n",
            "PERFORMANCE ON TEST SET: Batch Loss = 0.8380219340324402, Accuracy = 0.8795385360717773\n",
            "Training iter #690000:   Batch Loss = 0.487718, Accuracy = 0.9706666469573975\n",
            "PERFORMANCE ON TEST SET: Batch Loss = 0.8280518054962158, Accuracy = 0.8751272559165955\n",
            "Training iter #720000:   Batch Loss = 0.498933, Accuracy = 0.9520000219345093\n",
            "PERFORMANCE ON TEST SET: Batch Loss = 0.7282670140266418, Accuracy = 0.8954869508743286\n",
            "Training iter #750000:   Batch Loss = 0.498012, Accuracy = 0.9393333196640015\n",
            "PERFORMANCE ON TEST SET: Batch Loss = 0.7381292581558228, Accuracy = 0.8937903046607971\n",
            "Training iter #780000:   Batch Loss = 0.413289, Accuracy = 0.9646666646003723\n",
            "PERFORMANCE ON TEST SET: Batch Loss = 0.7709416151046753, Accuracy = 0.885646402835846\n",
            "Training iter #810000:   Batch Loss = 0.423596, Accuracy = 0.9593333601951599\n",
            "PERFORMANCE ON TEST SET: Batch Loss = 0.7674452066421509, Accuracy = 0.8853070735931396\n",
            "Training iter #840000:   Batch Loss = 0.450174, Accuracy = 0.9340000152587891\n",
            "PERFORMANCE ON TEST SET: Batch Loss = 0.762228786945343, Accuracy = 0.8775025606155396\n",
            "Training iter #870000:   Batch Loss = 0.410799, Accuracy = 0.9653333425521851\n",
            "PERFORMANCE ON TEST SET: Batch Loss = 0.7617034912109375, Accuracy = 0.8785205483436584\n",
            "Training iter #900000:   Batch Loss = 0.394063, Accuracy = 0.9753333330154419\n",
            "PERFORMANCE ON TEST SET: Batch Loss = 0.7019851207733154, Accuracy = 0.8931116461753845\n",
            "Training iter #930000:   Batch Loss = 0.463047, Accuracy = 0.9240000247955322\n",
            "PERFORMANCE ON TEST SET: Batch Loss = 0.7425660490989685, Accuracy = 0.8819137811660767\n",
            "Training iter #960000:   Batch Loss = 0.444827, Accuracy = 0.9266666769981384\n",
            "PERFORMANCE ON TEST SET: Batch Loss = 0.7471765875816345, Accuracy = 0.8839497566223145\n",
            "Training iter #990000:   Batch Loss = 0.368946, Accuracy = 0.9726666808128357\n",
            "PERFORMANCE ON TEST SET: Batch Loss = 0.7372050285339355, Accuracy = 0.8853070735931396\n",
            "Training iter #1020000:   Batch Loss = 0.368021, Accuracy = 0.9746666550636292\n",
            "PERFORMANCE ON TEST SET: Batch Loss = 0.7339505553245544, Accuracy = 0.8836104273796082\n",
            "Training iter #1050000:   Batch Loss = 0.354711, Accuracy = 0.9666666388511658\n",
            "PERFORMANCE ON TEST SET: Batch Loss = 0.6634284257888794, Accuracy = 0.8951476216316223\n",
            "Training iter #1080000:   Batch Loss = 0.408303, Accuracy = 0.9633333086967468\n",
            "PERFORMANCE ON TEST SET: Batch Loss = 0.7160325050354004, Accuracy = 0.8808958530426025\n",
            "Training iter #1110000:   Batch Loss = 0.679239, Accuracy = 0.878000020980835\n",
            "PERFORMANCE ON TEST SET: Batch Loss = 1.0071163177490234, Accuracy = 0.7899559140205383\n",
            "Training iter #1140000:   Batch Loss = 0.495747, Accuracy = 0.9259999990463257\n",
            "PERFORMANCE ON TEST SET: Batch Loss = 0.7339861989021301, Accuracy = 0.8720732927322388\n",
            "Training iter #1170000:   Batch Loss = 0.368056, Accuracy = 0.9520000219345093\n",
            "PERFORMANCE ON TEST SET: Batch Loss = 0.7167855501174927, Accuracy = 0.8683406710624695\n",
            "Training iter #1200000:   Batch Loss = 0.371773, Accuracy = 0.9473333358764648\n",
            "PERFORMANCE ON TEST SET: Batch Loss = 0.6849201321601868, Accuracy = 0.8802171945571899\n",
            "Training iter #1230000:   Batch Loss = 0.356989, Accuracy = 0.9466666579246521\n",
            "PERFORMANCE ON TEST SET: Batch Loss = 0.6680532693862915, Accuracy = 0.8870037198066711\n",
            "Training iter #1260000:   Batch Loss = 0.340375, Accuracy = 0.9660000205039978\n",
            "PERFORMANCE ON TEST SET: Batch Loss = 0.6902802586555481, Accuracy = 0.884628415107727\n",
            "Training iter #1290000:   Batch Loss = 0.374512, Accuracy = 0.9393333196640015\n",
            "PERFORMANCE ON TEST SET: Batch Loss = 0.6875807046890259, Accuracy = 0.8788598775863647\n",
            "Training iter #1320000:   Batch Loss = 0.356223, Accuracy = 0.9586666822433472\n",
            "PERFORMANCE ON TEST SET: Batch Loss = 0.6515785455703735, Accuracy = 0.8944689631462097\n",
            "Training iter #1350000:   Batch Loss = 0.318578, Accuracy = 0.9706666469573975\n",
            "PERFORMANCE ON TEST SET: Batch Loss = 0.6703851819038391, Accuracy = 0.88802170753479\n",
            "Training iter #1380000:   Batch Loss = 0.307920, Accuracy = 0.9800000190734863\n",
            "PERFORMANCE ON TEST SET: Batch Loss = 0.6961464285850525, Accuracy = 0.8798778653144836\n",
            "Training iter #1410000:   Batch Loss = 0.296366, Accuracy = 0.981333315372467\n",
            "PERFORMANCE ON TEST SET: Batch Loss = 0.7012743353843689, Accuracy = 0.8805565237998962\n",
            "Training iter #1440000:   Batch Loss = 0.331696, Accuracy = 0.9679999947547913\n",
            "PERFORMANCE ON TEST SET: Batch Loss = 0.6225886344909668, Accuracy = 0.8815745115280151\n",
            "Training iter #1470000:   Batch Loss = 0.357143, Accuracy = 0.9513333439826965\n",
            "PERFORMANCE ON TEST SET: Batch Loss = 0.6428083777427673, Accuracy = 0.8798778653144836\n",
            "Training iter #1500000:   Batch Loss = 0.372904, Accuracy = 0.9386666417121887\n",
            "PERFORMANCE ON TEST SET: Batch Loss = 0.6153978109359741, Accuracy = 0.8965049386024475\n"
          ]
        }
      ],
      "source": [
        "# To keep track of training's performance\n",
        "test_losses = []\n",
        "test_accuracies = []\n",
        "train_losses = []\n",
        "train_accuracies = []\n",
        "\n",
        "# Launch the graph\n",
        "sess = tf.compat.v1.InteractiveSession(config=tf.compat.v1.ConfigProto(log_device_placement=True))\n",
        "init = tf.compat.v1.global_variables_initializer()\n",
        "sess.run(init)\n",
        "\n",
        "# Perform Training steps with \"batch_size\" amount of example data at each loop\n",
        "step = 1\n",
        "while step * batch_size <= training_iters:\n",
        "    batch_xs =         extract_batch_size(X_train, step, batch_size)\n",
        "    batch_ys = one_hot(extract_batch_size(y_train, step, batch_size))\n",
        "\n",
        "    # Fit training using batch data\n",
        "    _, loss, acc = sess.run(\n",
        "        [optimizer, cost, accuracy],\n",
        "        feed_dict={\n",
        "            x: batch_xs, \n",
        "            y: batch_ys\n",
        "        }\n",
        "    )\n",
        "    train_losses.append(loss)\n",
        "    train_accuracies.append(acc)\n",
        "    \n",
        "    # Evaluate network only at some steps for faster training: \n",
        "    if (step*batch_size % display_iter == 0) or (step == 1) or (step * batch_size > training_iters):\n",
        "        \n",
        "        # To not spam console, show training accuracy/loss in this \"if\"\n",
        "        print(\"Training iter #\" + str(step*batch_size) + \\\n",
        "              \":   Batch Loss = \" + \"{:.6f}\".format(loss) + \\\n",
        "              \", Accuracy = {}\".format(acc))\n",
        "        \n",
        "        # Evaluation on the test set (no learning made here - just evaluation for diagnosis)\n",
        "        loss, acc = sess.run(\n",
        "            [cost, accuracy], \n",
        "            feed_dict={\n",
        "                x: X_test,\n",
        "                y: one_hot(y_test)\n",
        "            }\n",
        "        )\n",
        "        test_losses.append(loss)\n",
        "        test_accuracies.append(acc)\n",
        "        print(\"PERFORMANCE ON TEST SET: \" + \\\n",
        "              \"Batch Loss = {}\".format(loss) + \\\n",
        "              \", Accuracy = {}\".format(acc))\n",
        "\n",
        "    step += 1\n",
        "\n",
        "print(\"Optimization Finished!\")\n",
        "\n",
        "# Accuracy for test data\n",
        "\n",
        "one_hot_predictions, accuracy, final_loss = sess.run(\n",
        "    [pred, accuracy, cost],\n",
        "    feed_dict={\n",
        "        x: X_test,\n",
        "        y: one_hot(y_test)\n",
        "    }\n",
        ")\n",
        "\n",
        "test_losses.append(final_loss)\n",
        "test_accuracies.append(accuracy)\n",
        "\n",
        "print(\"FINAL RESULT: \" + \\\n",
        "      \"Batch Loss = {}\".format(final_loss) + \\\n",
        "      \", Accuracy = {}\".format(accuracy))\n"
      ]
    },
    {
      "cell_type": "markdown",
      "metadata": {
        "id": "QFyMBVY5hvYz"
      },
      "source": [
        "## Training is good, but having visual insight is even better:\n",
        "\n",
        "Okay, let's plot this simply in the notebook for now."
      ]
    },
    {
      "cell_type": "code",
      "execution_count": null,
      "metadata": {
        "id": "Sg-fE7P-hvYz"
      },
      "outputs": [],
      "source": [
        "# (Inline plots: )\n",
        "%matplotlib inline\n",
        "\n",
        "font = {\n",
        "    'family' : 'Bitstream Vera Sans',\n",
        "    'weight' : 'bold',\n",
        "    'size'   : 18\n",
        "}\n",
        "matplotlib.rc('font', **font)\n",
        "\n",
        "width = 12\n",
        "height = 12\n",
        "plt.figure(figsize=(width, height))\n",
        "\n",
        "indep_train_axis = np.array(range(batch_size, (len(train_losses)+1)*batch_size, batch_size))\n",
        "plt.plot(indep_train_axis, np.array(train_losses),     \"b--\", label=\"Train losses\")\n",
        "plt.plot(indep_train_axis, np.array(train_accuracies), \"g--\", label=\"Train accuracies\")\n",
        "\n",
        "indep_test_axis = np.append(\n",
        "    np.array(range(batch_size, len(test_losses)*display_iter, display_iter)[:-1]),\n",
        "    [training_iters]\n",
        ")\n",
        "plt.plot(indep_test_axis, np.array(test_losses),     \"b-\", label=\"Test losses\")\n",
        "plt.plot(indep_test_axis, np.array(test_accuracies), \"g-\", label=\"Test accuracies\")\n",
        "\n",
        "plt.title(\"Training session's progress over iterations\")\n",
        "plt.legend(loc='upper right', shadow=True)\n",
        "plt.ylabel('Training Progress (Loss or Accuracy values)')\n",
        "plt.xlabel('Training iteration')\n",
        "\n",
        "plt.show()"
      ]
    },
    {
      "cell_type": "markdown",
      "metadata": {
        "id": "5FQeNIpUhvY0"
      },
      "source": [
        "## And finally, the multi-class confusion matrix and metrics!"
      ]
    },
    {
      "cell_type": "code",
      "execution_count": null,
      "metadata": {
        "id": "svOUoDsShvY1"
      },
      "outputs": [],
      "source": [
        "# Results\n",
        "\n",
        "predictions = one_hot_predictions.argmax(1)\n",
        "\n",
        "print(\"Testing Accuracy: {}%\".format(100*accuracy))\n",
        "\n",
        "print(\"\")\n",
        "print(\"Precision: {}%\".format(100*metrics.precision_score(y_test, predictions, average=\"weighted\")))\n",
        "print(\"Recall: {}%\".format(100*metrics.recall_score(y_test, predictions, average=\"weighted\")))\n",
        "print(\"f1_score: {}%\".format(100*metrics.f1_score(y_test, predictions, average=\"weighted\")))\n",
        "\n",
        "print(\"\")\n",
        "print(\"Confusion Matrix:\")\n",
        "confusion_matrix = metrics.confusion_matrix(y_test, predictions)\n",
        "print(confusion_matrix)\n",
        "normalised_confusion_matrix = np.array(confusion_matrix, dtype=np.float32)/np.sum(confusion_matrix)*100\n",
        "\n",
        "print(\"\")\n",
        "print(\"Confusion matrix (normalised to % of total test data):\")\n",
        "print(normalised_confusion_matrix)\n",
        "print(\"Note: training and testing data is not equally distributed amongst classes, \")\n",
        "print(\"so it is normal that more than a 6th of the data is correctly classifier in the last category.\")\n",
        "\n",
        "# Plot Results: \n",
        "width = 12\n",
        "height = 12\n",
        "plt.figure(figsize=(width, height))\n",
        "plt.imshow(\n",
        "    normalised_confusion_matrix, \n",
        "    interpolation='nearest', \n",
        "    cmap=plt.cm.rainbow\n",
        ")\n",
        "plt.title(\"Confusion matrix \\n(normalised to % of total test data)\")\n",
        "plt.colorbar()\n",
        "tick_marks = np.arange(n_classes)\n",
        "plt.xticks(tick_marks, LABELS, rotation=90)\n",
        "plt.yticks(tick_marks, LABELS)\n",
        "plt.tight_layout()\n",
        "plt.ylabel('True label')\n",
        "plt.xlabel('Predicted label')\n",
        "plt.show()"
      ]
    },
    {
      "cell_type": "code",
      "execution_count": null,
      "metadata": {
        "collapsed": true,
        "id": "c-2_MEQehvY1"
      },
      "outputs": [],
      "source": [
        "sess.close()"
      ]
    }
  ],
  "metadata": {
    "hide_input": false,
    "kernelspec": {
      "display_name": "Python 3",
      "language": "python",
      "name": "python3"
    },
    "language_info": {
      "codemirror_mode": {
        "name": "ipython",
        "version": 3
      },
      "file_extension": ".py",
      "mimetype": "text/x-python",
      "name": "python",
      "nbconvert_exporter": "python",
      "pygments_lexer": "ipython3",
      "version": "3.6.8"
    },
    "colab": {
      "provenance": []
    }
  },
  "nbformat": 4,
  "nbformat_minor": 0
}